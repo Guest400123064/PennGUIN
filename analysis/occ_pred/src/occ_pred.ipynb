{
 "cells": [
  {
   "cell_type": "code",
   "execution_count": 8,
   "metadata": {},
   "outputs": [],
   "source": [
    "from typing import List, Union, Any, Dict\n",
    "from abc import ABC, abstractmethod\n",
    "from pprint import pprint\n",
    "\n",
    "import numpy as np\n",
    "import pandas as pd\n",
    "\n",
    "import re\n",
    "import string\n",
    "import unicodedata\n",
    "\n",
    "import torch\n",
    "from transformers import pipeline\n",
    "\n",
    "\n",
    "def clean_str(s: str) -> str:\n",
    "    \"\"\"String pre-processing function, used to reduce noise.\n",
    "        1. Convert all characters to ASCII\n",
    "        2. Remove other irrelevant stuff like email address or external url\n",
    "        3. Remove special symbols like newline character \\\\n\"\"\"\n",
    "        \n",
    "    # Normalize special chars\n",
    "    s = str(s)\n",
    "    # s = (unicodedata.normalize('NFKD', s)\n",
    "    #         .encode('ascii', 'ignore').decode())\n",
    "\n",
    "    # Remove irrelevant info\n",
    "    s = re.sub(r'\\S*@\\S*\\s?', '', s)     # Email\n",
    "    s = re.sub(r'\\S*https?:\\S*', '', s)  # URL (http)\n",
    "    s = re.sub(r'\\S*www\\.\\S*', '', s)    # URL (www)\n",
    "    \n",
    "    # Keep punctuation and words only\n",
    "    pattern_keep = (string.punctuation + \n",
    "                        string.ascii_letters + \n",
    "                        string.digits + \n",
    "                        r' ')\n",
    "    return re.sub(r'[^' + pattern_keep + r']+', '', s)"
   ]
  },
  {
   "cell_type": "code",
   "execution_count": 2,
   "metadata": {},
   "outputs": [],
   "source": [
    "# Load textual descriptions of interested entities\n",
    "df_ent = pd.read_csv('../data/SF_all_tone_2k_entities.csv')\n",
    "df_ent = df_ent.loc[~df_ent.loc[:, 'org_flag']]\n",
    "df_ent.loc[:, 'description1'] = df_ent.loc[:, 'description1'].map(clean_str)\n",
    "df_ent.description1.iloc[0]\n",
    "\n",
    "# Load occupation categories\n",
    "df_occ = pd.read_csv('../data/categories.csv')\n",
    "df_occ.loc[:, 'occupation'] = df_occ.loc[:, 'occupation'].str.lower()"
   ]
  },
  {
   "cell_type": "code",
   "execution_count": 3,
   "metadata": {},
   "outputs": [],
   "source": [
    "# Predict occupation\n",
    "model = pipeline('zero-shot-classification', 'valhalla/distilbart-mnli-12-1', device=0)\n",
    "categories = df_occ.occupation.unique().tolist()\n",
    "def predict_occupation(row: pd.Series) -> str:\n",
    "    \n",
    "    ent = row['entity']\n",
    "    desc = row['description1']\n",
    "    ret = model(desc, categories)['labels'][0]\n",
    "    return ret"
   ]
  },
  {
   "cell_type": "code",
   "execution_count": 4,
   "metadata": {},
   "outputs": [
    {
     "name": "stderr",
     "output_type": "stream",
     "text": [
      "/home/lgfz1/Miniconda3/envs/coref/lib/python3.8/site-packages/transformers/pipelines/base.py:899: UserWarning: You seem to be using the pipelines sequentially on GPU. In order to maximize efficiency please use a dataset\n",
      "  warnings.warn(\n"
     ]
    }
   ],
   "source": [
    "occ_keep = {\n",
    "    'politician',\n",
    "    'businessperson',\n",
    "    'journalist',\n",
    "    'social activist',\n",
    "    'extremist',\n",
    "    'judge',\n",
    "    'lawyer',\n",
    "    'economist',\n",
    "    'critic',\n",
    "    'military person'\n",
    "}\n",
    "\n",
    "df_ent.loc[:, 'occ_pred'] = df_ent.apply(predict_occupation, axis=1)\n",
    "df_ent.loc[:, 'is_kept'] = df_ent.occ_pred.map(lambda o: int(o in occ_keep))\n",
    "df_ent.to_csv('../out/SF_all_tone_2k_entities_pred_occ_bart.csv', index=False)"
   ]
  },
  {
   "cell_type": "code",
   "execution_count": 9,
   "metadata": {},
   "outputs": [],
   "source": [
    "# Analysis of extremist predictions\n",
    "df_ext = pd.read_csv('../out/SF_all_tone_2k_entities_pred_occ_bart.csv')\n",
    "df_ext = df_ext.loc[df_ext.occ_pred == 'extremist', ['entity', 'description1', 'description2']].reset_index(drop=True)"
   ]
  },
  {
   "cell_type": "code",
   "execution_count": 6,
   "metadata": {},
   "outputs": [],
   "source": [
    "row = df_ext.iloc[0]\n",
    "ret = model(row['description2'], categories)\n",
    "pprint(ret)"
   ]
  },
  {
   "cell_type": "code",
   "execution_count": null,
   "metadata": {},
   "outputs": [],
   "source": []
  },
  {
   "cell_type": "code",
   "execution_count": 15,
   "metadata": {},
   "outputs": [
    {
     "data": {
      "text/html": [
       "<div>\n",
       "<style scoped>\n",
       "    .dataframe tbody tr th:only-of-type {\n",
       "        vertical-align: middle;\n",
       "    }\n",
       "\n",
       "    .dataframe tbody tr th {\n",
       "        vertical-align: top;\n",
       "    }\n",
       "\n",
       "    .dataframe thead th {\n",
       "        text-align: right;\n",
       "    }\n",
       "</style>\n",
       "<table border=\"1\" class=\"dataframe\">\n",
       "  <thead>\n",
       "    <tr style=\"text-align: right;\">\n",
       "      <th></th>\n",
       "      <th>entity</th>\n",
       "      <th>description1</th>\n",
       "    </tr>\n",
       "  </thead>\n",
       "  <tbody>\n",
       "    <tr>\n",
       "      <th>0</th>\n",
       "      <td>Van Breda</td>\n",
       "      <td>The Van Breda murders were the killing of thre...</td>\n",
       "    </tr>\n",
       "    <tr>\n",
       "      <th>1</th>\n",
       "      <td>Steve Biko</td>\n",
       "      <td>Bantu Stephen Biko (18 December 1946  12 Septe...</td>\n",
       "    </tr>\n",
       "    <tr>\n",
       "      <th>2</th>\n",
       "      <td>Nino Mbatha</td>\n",
       "      <td>Dec 14, 2018 ... CNNNino Mbatha (wearing camou...</td>\n",
       "    </tr>\n",
       "  </tbody>\n",
       "</table>\n",
       "</div>"
      ],
      "text/plain": [
       "        entity                                       description1\n",
       "0    Van Breda  The Van Breda murders were the killing of thre...\n",
       "1   Steve Biko  Bantu Stephen Biko (18 December 1946  12 Septe...\n",
       "2  Nino Mbatha  Dec 14, 2018 ... CNNNino Mbatha (wearing camou..."
      ]
     },
     "execution_count": 15,
     "metadata": {},
     "output_type": "execute_result"
    }
   ],
   "source": [
    "df_ext.loc[:, ['entity', 'description1']]"
   ]
  }
 ],
 "metadata": {
  "interpreter": {
   "hash": "9408d1441d072873d2a4ce5321f6d40e4e7ee5a37a40f5d992ebe56b872968bb"
  },
  "kernelspec": {
   "display_name": "Python 3.8.12 ('coref')",
   "language": "python",
   "name": "python3"
  },
  "language_info": {
   "codemirror_mode": {
    "name": "ipython",
    "version": 3
   },
   "file_extension": ".py",
   "mimetype": "text/x-python",
   "name": "python",
   "nbconvert_exporter": "python",
   "pygments_lexer": "ipython3",
   "version": "3.8.12"
  },
  "orig_nbformat": 4
 },
 "nbformat": 4,
 "nbformat_minor": 2
}
